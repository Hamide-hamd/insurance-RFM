{
 "cells": [
  {
   "cell_type": "code",
   "execution_count": 154,
   "metadata": {},
   "outputs": [],
   "source": [
    "import numpy as np\n",
    "import matplotlib.pyplot as plt\n",
    "from sklearn.cluster import KMeans\n",
    "import pandas as pd\n",
    "from sklearn.metrics import confusion_matrix, silhouette_samples,silhouette_score\n"
   ]
  },
  {
   "cell_type": "code",
   "execution_count": 155,
   "metadata": {},
   "outputs": [],
   "source": [
    "import datetime"
   ]
  },
  {
   "cell_type": "code",
   "execution_count": 156,
   "metadata": {},
   "outputs": [],
   "source": [
    "from sklearn.preprocessing import scale\n",
    "from sklearn.preprocessing import StandardScaler"
   ]
  },
  {
   "cell_type": "code",
   "execution_count": 157,
   "metadata": {},
   "outputs": [],
   "source": [
    "from datetime import date\n",
    "from dateutil import parser\n",
    "from datetime import datetime"
   ]
  },
  {
   "cell_type": "code",
   "execution_count": 235,
   "metadata": {},
   "outputs": [],
   "source": [
    "df=pd.read_excel(\"D:/Data_Analysis_Projects/AC767000.xlsx\")"
   ]
  },
  {
   "cell_type": "code",
   "execution_count": 159,
   "metadata": {},
   "outputs": [
    {
     "data": {
      "text/plain": [
       "Unnamed: 0                                     float64\n",
       "ردیف                                             int64\n",
       "بيمه گذار                                       object\n",
       "فعاليت شغلي اصلي                                object\n",
       "صدور بيمه نامه به صورت با نام                   object\n",
       "معرف                                            object\n",
       "واحد صدور                                       object\n",
       "تاريخ پيشنهاد                                   object\n",
       "تاریخ شروع                                      object\n",
       "تاریخ پایان                                     object\n",
       "نحوه محاسبه                                     object\n",
       "مدت                                              int64\n",
       "تاريخ صدور                                      object\n",
       "آدرس محل فعاليت                                 object\n",
       "غرامت فوت و نقص عضو ماه عادي هرنفردرهرحادثه      int64\n",
       "غرامت فوت ماه حرام هرنفردرهرحادثه                int64\n",
       "غرامت فوت و نقص عضو درطول مدت بيمه               int64\n",
       "هزينه پزشكي فرد درهرحادثه                        int64\n",
       "هزينه پزشكي درطول مدت بيمه                       int64\n",
       "درصد فرانشيز                                     int64\n",
       "حداقل مبلغ فرانشيز                               int64\n",
       "شرکت بیمه سال قبل                                int64\n",
       "شماره بیمه نامه سال قبل                         object\n",
       "سابقه خسارت                                     object\n",
       "تخفيف مديريتي                                    int64\n",
       "محاسبه کارشناسي؟                                object\n",
       "حق بيمه                                          int64\n",
       "ماليات بر ارزش  افزوده                           int64\n",
       "عوارض شهرداري                                    int64\n",
       "حق بيمه کل(با ماليات)                            int64\n",
       "واحد پیشنهاد دهنده                              object\n",
       "درصد تشديد خطر                                 float64\n",
       "dtype: object"
      ]
     },
     "execution_count": 159,
     "metadata": {},
     "output_type": "execute_result"
    }
   ],
   "source": [
    "df.dtypes"
   ]
  },
  {
   "cell_type": "code",
   "execution_count": 160,
   "metadata": {},
   "outputs": [
    {
     "name": "stdout",
     "output_type": "stream",
     "text": [
      "<class 'pandas.core.frame.DataFrame'>\n",
      "RangeIndex: 1054 entries, 0 to 1053\n",
      "Data columns (total 32 columns):\n",
      " #   Column                                       Non-Null Count  Dtype  \n",
      "---  ------                                       --------------  -----  \n",
      " 0   Unnamed: 0                                   0 non-null      float64\n",
      " 1   ردیف                                         1054 non-null   int64  \n",
      " 2   بيمه گذار                                    1054 non-null   object \n",
      " 3   فعاليت شغلي اصلي                             1054 non-null   object \n",
      " 4   صدور بيمه نامه به صورت با نام                1054 non-null   object \n",
      " 5   معرف                                         1054 non-null   object \n",
      " 6   واحد صدور                                    1054 non-null   object \n",
      " 7   تاريخ پيشنهاد                                193 non-null    object \n",
      " 8   تاریخ شروع                                   1054 non-null   object \n",
      " 9   تاریخ پایان                                  1054 non-null   object \n",
      " 10  نحوه محاسبه                                  1054 non-null   object \n",
      " 11  مدت                                          1054 non-null   int64  \n",
      " 12  تاريخ صدور                                   1054 non-null   object \n",
      " 13  آدرس محل فعاليت                              1054 non-null   object \n",
      " 14  غرامت فوت و نقص عضو ماه عادي هرنفردرهرحادثه  1054 non-null   int64  \n",
      " 15  غرامت فوت ماه حرام هرنفردرهرحادثه            1054 non-null   int64  \n",
      " 16  غرامت فوت و نقص عضو درطول مدت بيمه           1054 non-null   int64  \n",
      " 17  هزينه پزشكي فرد درهرحادثه                    1054 non-null   int64  \n",
      " 18  هزينه پزشكي درطول مدت بيمه                   1054 non-null   int64  \n",
      " 19  درصد فرانشيز                                 1054 non-null   int64  \n",
      " 20  حداقل مبلغ فرانشيز                           1054 non-null   int64  \n",
      " 21  شرکت بیمه سال قبل                            1054 non-null   int64  \n",
      " 22  شماره بیمه نامه سال قبل                      414 non-null    object \n",
      " 23  سابقه خسارت                                  1054 non-null   object \n",
      " 24  تخفيف مديريتي                                1054 non-null   int64  \n",
      " 25  محاسبه کارشناسي؟                             1054 non-null   object \n",
      " 26  حق بيمه                                      1054 non-null   int64  \n",
      " 27  ماليات بر ارزش  افزوده                       1054 non-null   int64  \n",
      " 28  عوارض شهرداري                                1054 non-null   int64  \n",
      " 29  حق بيمه کل(با ماليات)                        1054 non-null   int64  \n",
      " 30  واحد پیشنهاد دهنده                           1054 non-null   object \n",
      " 31  درصد تشديد خطر                               1054 non-null   float64\n",
      "dtypes: float64(2), int64(15), object(15)\n",
      "memory usage: 263.6+ KB\n"
     ]
    }
   ],
   "source": [
    "df.info()"
   ]
  },
  {
   "cell_type": "code",
   "execution_count": 236,
   "metadata": {},
   "outputs": [],
   "source": [
    "import time \n",
    "import datetime \n",
    "from datetime import datetime"
   ]
  },
  {
   "cell_type": "code",
   "execution_count": 237,
   "metadata": {},
   "outputs": [
    {
     "data": {
      "text/plain": [
       "(1054, 32)"
      ]
     },
     "execution_count": 237,
     "metadata": {},
     "output_type": "execute_result"
    }
   ],
   "source": [
    "df.shape"
   ]
  },
  {
   "cell_type": "code",
   "execution_count": 238,
   "metadata": {},
   "outputs": [],
   "source": [
    "df['تاریخ صدور']=pd.to_datetime(df['تاريخ صدور'], format='%Y-%m-%d %H:%M:%S',errors='coerce')"
   ]
  },
  {
   "cell_type": "code",
   "execution_count": 239,
   "metadata": {},
   "outputs": [
    {
     "data": {
      "text/plain": [
       "0      2014-09-04\n",
       "1      2014-09-12\n",
       "2      2014-09-04\n",
       "3      2014-09-05\n",
       "4      2014-09-06\n",
       "          ...    \n",
       "1049   2015-09-16\n",
       "1050   2015-10-13\n",
       "1051   2015-10-13\n",
       "1052   2015-10-22\n",
       "1053   2015-10-20\n",
       "Name: تاریخ صدور, Length: 1054, dtype: datetime64[ns]"
      ]
     },
     "execution_count": 239,
     "metadata": {},
     "output_type": "execute_result"
    }
   ],
   "source": [
    "df['تاریخ صدور']"
   ]
  },
  {
   "cell_type": "code",
   "execution_count": 240,
   "metadata": {},
   "outputs": [],
   "source": [
    "out = df.loc[pd.to_datetime(df['تاريخ صدور'],format='%Y-%m-%d %H:%M:%S',errors='coerce').isna(), 'تاريخ صدور']"
   ]
  },
  {
   "cell_type": "code",
   "execution_count": 241,
   "metadata": {},
   "outputs": [
    {
     "data": {
      "text/plain": [
       "751    2/30/2015\n",
       "808    2/31/2015\n",
       "809    2/29/2015\n",
       "810    2/29/2015\n",
       "812    2/30/2015\n",
       "814    2/29/2015\n",
       "817    2/31/2015\n",
       "818    2/30/2015\n",
       "822    2/29/2015\n",
       "823    2/29/2015\n",
       "824    2/29/2015\n",
       "825    2/29/2015\n",
       "826    2/30/2015\n",
       "827    2/30/2015\n",
       "828    2/30/2015\n",
       "832    2/30/2015\n",
       "958    4/31/2015\n",
       "Name: تاريخ صدور, dtype: object"
      ]
     },
     "execution_count": 241,
     "metadata": {},
     "output_type": "execute_result"
    }
   ],
   "source": [
    "out"
   ]
  },
  {
   "cell_type": "code",
   "execution_count": 242,
   "metadata": {},
   "outputs": [],
   "source": [
    "#remove the given wrong dates (out)"
   ]
  },
  {
   "cell_type": "code",
   "execution_count": 243,
   "metadata": {},
   "outputs": [],
   "source": [
    "df=df.drop(out.index)"
   ]
  },
  {
   "cell_type": "code",
   "execution_count": 244,
   "metadata": {},
   "outputs": [
    {
     "data": {
      "text/plain": [
       "(1037, 33)"
      ]
     },
     "execution_count": 244,
     "metadata": {},
     "output_type": "execute_result"
    }
   ],
   "source": [
    "df.shape"
   ]
  },
  {
   "cell_type": "code",
   "execution_count": 245,
   "metadata": {},
   "outputs": [],
   "source": [
    "today=pd.Timestamp('07/19/2022')"
   ]
  },
  {
   "cell_type": "code",
   "execution_count": 246,
   "metadata": {},
   "outputs": [],
   "source": [
    "df['تاريخ صدور']=df['تاريخ صدور'].agg(pd.Timestamp)"
   ]
  },
  {
   "cell_type": "code",
   "execution_count": 247,
   "metadata": {},
   "outputs": [],
   "source": [
    "df['Diff_Days']=df['تاريخ صدور'].agg(lambda x:(today-x).days)"
   ]
  },
  {
   "cell_type": "code",
   "execution_count": 248,
   "metadata": {},
   "outputs": [
    {
     "data": {
      "text/plain": [
       "0       2875\n",
       "1       2867\n",
       "2       2875\n",
       "3       2874\n",
       "4       2873\n",
       "        ... \n",
       "1049    2498\n",
       "1050    2471\n",
       "1051    2471\n",
       "1052    2462\n",
       "1053    2464\n",
       "Name: Diff_Days, Length: 1037, dtype: int64"
      ]
     },
     "execution_count": 248,
     "metadata": {},
     "output_type": "execute_result"
    }
   ],
   "source": [
    "df['Diff_Days']"
   ]
  },
  {
   "cell_type": "code",
   "execution_count": 249,
   "metadata": {},
   "outputs": [],
   "source": [
    "Recency=df.groupby('بيمه گذار').Diff_Days.min()"
   ]
  },
  {
   "cell_type": "code",
   "execution_count": 250,
   "metadata": {},
   "outputs": [
    {
     "data": {
      "text/plain": [
       "بيمه گذار\n",
       "0 حاجي خداداد كد 107401                             2581\n",
       "آدينه محمد محمدزاده كد 54408                        2813\n",
       "آذرميدخت علانظري كد 140989                          2667\n",
       "آرش طهماسبي نيا كد 55977                            2804\n",
       "آزمايشگاه اكروديته بنام معيار گستر آريا كد 69208    2782\n",
       "                                                    ... \n",
       "کيوان مختاري جباري كد 59029                         2656\n",
       "گروه توليدي صنعتي سازان كد 124738                   2710\n",
       "گروه صنعتي زيست بست پرشيا كد 1922                   2861\n",
       "گسترش رهان ابنيه سازان كد 61484                     2789\n",
       "گلنار حسيني دهکردي كد 119975                        2739\n",
       "Name: Diff_Days, Length: 914, dtype: int64"
      ]
     },
     "execution_count": 250,
     "metadata": {},
     "output_type": "execute_result"
    }
   ],
   "source": [
    "Recency"
   ]
  },
  {
   "cell_type": "code",
   "execution_count": 251,
   "metadata": {},
   "outputs": [],
   "source": [
    "#استخراج متغیر Frequency"
   ]
  },
  {
   "cell_type": "code",
   "execution_count": null,
   "metadata": {},
   "outputs": [],
   "source": [
    "#برای استخراج این متغیر تعداد دفعات قرارداد در مدت هر قرارداد ضرب شده است"
   ]
  },
  {
   "cell_type": "code",
   "execution_count": 252,
   "metadata": {},
   "outputs": [],
   "source": [
    "df['contract_qty']=df['شرکت بیمه سال قبل'].agg(lambda x:x+1)"
   ]
  },
  {
   "cell_type": "code",
   "execution_count": 253,
   "metadata": {},
   "outputs": [],
   "source": [
    "df['contract_qty']=df['contract_qty']*df['مدت']"
   ]
  },
  {
   "cell_type": "code",
   "execution_count": 323,
   "metadata": {},
   "outputs": [],
   "source": [
    "Frequency=df.groupby('بيمه گذار').contract_qty.sum()"
   ]
  },
  {
   "cell_type": "code",
   "execution_count": 324,
   "metadata": {},
   "outputs": [
    {
     "data": {
      "text/plain": [
       "بيمه گذار\n",
       "0 حاجي خداداد كد 107401                             730\n",
       "آدينه محمد محمدزاده كد 54408                        730\n",
       "آذرميدخت علانظري كد 140989                          730\n",
       "آرش طهماسبي نيا كد 55977                            119\n",
       "آزمايشگاه اكروديته بنام معيار گستر آريا كد 69208    730\n",
       "                                                   ... \n",
       "کيوان مختاري جباري كد 59029                         730\n",
       "گروه توليدي صنعتي سازان كد 124738                   365\n",
       "گروه صنعتي زيست بست پرشيا كد 1922                   365\n",
       "گسترش رهان ابنيه سازان كد 61484                     365\n",
       "گلنار حسيني دهکردي كد 119975                         62\n",
       "Name: contract_qty, Length: 914, dtype: int64"
      ]
     },
     "execution_count": 324,
     "metadata": {},
     "output_type": "execute_result"
    }
   ],
   "source": [
    "Frequency"
   ]
  },
  {
   "cell_type": "code",
   "execution_count": 325,
   "metadata": {},
   "outputs": [],
   "source": [
    "#استخراج متغیر Monetary"
   ]
  },
  {
   "cell_type": "code",
   "execution_count": 326,
   "metadata": {},
   "outputs": [],
   "source": [
    "Monetary=df.groupby('بيمه گذار').sum().loc[:,'حق بيمه کل(با ماليات)']"
   ]
  },
  {
   "cell_type": "code",
   "execution_count": 327,
   "metadata": {},
   "outputs": [
    {
     "data": {
      "text/plain": [
       "بيمه گذار\n",
       "0 حاجي خداداد كد 107401                             10770192\n",
       "آدينه محمد محمدزاده كد 54408                         8808388\n",
       "آذرميدخت علانظري كد 140989                           3265920\n",
       "آرش طهماسبي نيا كد 55977                             1060000\n",
       "آزمايشگاه اكروديته بنام معيار گستر آريا كد 69208     2346628\n",
       "                                                      ...   \n",
       "کيوان مختاري جباري كد 59029                          1661581\n",
       "گروه توليدي صنعتي سازان كد 124738                   46537200\n",
       "گروه صنعتي زيست بست پرشيا كد 1922                    5093088\n",
       "گسترش رهان ابنيه سازان كد 61484                     62713310\n",
       "گلنار حسيني دهکردي كد 119975                         1649052\n",
       "Name: حق بيمه کل(با ماليات), Length: 914, dtype: int64"
      ]
     },
     "execution_count": 327,
     "metadata": {},
     "output_type": "execute_result"
    }
   ],
   "source": [
    "Monetary"
   ]
  },
  {
   "cell_type": "code",
   "execution_count": 328,
   "metadata": {},
   "outputs": [],
   "source": [
    "X=pd.concat((pd.DataFrame(Recency),pd.DataFrame(Frequency),pd.DataFrame(Monetary)),axis=1)"
   ]
  },
  {
   "cell_type": "code",
   "execution_count": 329,
   "metadata": {},
   "outputs": [
    {
     "data": {
      "text/html": [
       "<div>\n",
       "<style scoped>\n",
       "    .dataframe tbody tr th:only-of-type {\n",
       "        vertical-align: middle;\n",
       "    }\n",
       "\n",
       "    .dataframe tbody tr th {\n",
       "        vertical-align: top;\n",
       "    }\n",
       "\n",
       "    .dataframe thead th {\n",
       "        text-align: right;\n",
       "    }\n",
       "</style>\n",
       "<table border=\"1\" class=\"dataframe\">\n",
       "  <thead>\n",
       "    <tr style=\"text-align: right;\">\n",
       "      <th></th>\n",
       "      <th>Diff_Days</th>\n",
       "      <th>contract_qty</th>\n",
       "      <th>حق بيمه کل(با ماليات)</th>\n",
       "    </tr>\n",
       "    <tr>\n",
       "      <th>بيمه گذار</th>\n",
       "      <th></th>\n",
       "      <th></th>\n",
       "      <th></th>\n",
       "    </tr>\n",
       "  </thead>\n",
       "  <tbody>\n",
       "    <tr>\n",
       "      <th>0 حاجي خداداد كد 107401</th>\n",
       "      <td>2581</td>\n",
       "      <td>730</td>\n",
       "      <td>10770192</td>\n",
       "    </tr>\n",
       "    <tr>\n",
       "      <th>آدينه محمد محمدزاده كد 54408</th>\n",
       "      <td>2813</td>\n",
       "      <td>730</td>\n",
       "      <td>8808388</td>\n",
       "    </tr>\n",
       "    <tr>\n",
       "      <th>آذرميدخت علانظري كد 140989</th>\n",
       "      <td>2667</td>\n",
       "      <td>730</td>\n",
       "      <td>3265920</td>\n",
       "    </tr>\n",
       "    <tr>\n",
       "      <th>آرش طهماسبي نيا كد 55977</th>\n",
       "      <td>2804</td>\n",
       "      <td>119</td>\n",
       "      <td>1060000</td>\n",
       "    </tr>\n",
       "    <tr>\n",
       "      <th>آزمايشگاه اكروديته بنام معيار گستر آريا كد 69208</th>\n",
       "      <td>2782</td>\n",
       "      <td>730</td>\n",
       "      <td>2346628</td>\n",
       "    </tr>\n",
       "    <tr>\n",
       "      <th>...</th>\n",
       "      <td>...</td>\n",
       "      <td>...</td>\n",
       "      <td>...</td>\n",
       "    </tr>\n",
       "    <tr>\n",
       "      <th>کيوان مختاري جباري كد 59029</th>\n",
       "      <td>2656</td>\n",
       "      <td>730</td>\n",
       "      <td>1661581</td>\n",
       "    </tr>\n",
       "    <tr>\n",
       "      <th>گروه توليدي صنعتي سازان كد 124738</th>\n",
       "      <td>2710</td>\n",
       "      <td>365</td>\n",
       "      <td>46537200</td>\n",
       "    </tr>\n",
       "    <tr>\n",
       "      <th>گروه صنعتي زيست بست پرشيا كد 1922</th>\n",
       "      <td>2861</td>\n",
       "      <td>365</td>\n",
       "      <td>5093088</td>\n",
       "    </tr>\n",
       "    <tr>\n",
       "      <th>گسترش رهان ابنيه سازان كد 61484</th>\n",
       "      <td>2789</td>\n",
       "      <td>365</td>\n",
       "      <td>62713310</td>\n",
       "    </tr>\n",
       "    <tr>\n",
       "      <th>گلنار حسيني دهکردي كد 119975</th>\n",
       "      <td>2739</td>\n",
       "      <td>62</td>\n",
       "      <td>1649052</td>\n",
       "    </tr>\n",
       "  </tbody>\n",
       "</table>\n",
       "<p>914 rows × 3 columns</p>\n",
       "</div>"
      ],
      "text/plain": [
       "                                                  Diff_Days  contract_qty  \\\n",
       "بيمه گذار                                                                   \n",
       "0 حاجي خداداد كد 107401                                2581           730   \n",
       "آدينه محمد محمدزاده كد 54408                           2813           730   \n",
       "آذرميدخت علانظري كد 140989                             2667           730   \n",
       "آرش طهماسبي نيا كد 55977                               2804           119   \n",
       "آزمايشگاه اكروديته بنام معيار گستر آريا كد 69208       2782           730   \n",
       "...                                                     ...           ...   \n",
       "کيوان مختاري جباري كد 59029                            2656           730   \n",
       "گروه توليدي صنعتي سازان كد 124738                      2710           365   \n",
       "گروه صنعتي زيست بست پرشيا كد 1922                      2861           365   \n",
       "گسترش رهان ابنيه سازان كد 61484                        2789           365   \n",
       "گلنار حسيني دهکردي كد 119975                           2739            62   \n",
       "\n",
       "                                                  حق بيمه کل(با ماليات)  \n",
       "بيمه گذار                                                                \n",
       "0 حاجي خداداد كد 107401                                        10770192  \n",
       "آدينه محمد محمدزاده كد 54408                                    8808388  \n",
       "آذرميدخت علانظري كد 140989                                      3265920  \n",
       "آرش طهماسبي نيا كد 55977                                        1060000  \n",
       "آزمايشگاه اكروديته بنام معيار گستر آريا كد 69208                2346628  \n",
       "...                                                                 ...  \n",
       "کيوان مختاري جباري كد 59029                                     1661581  \n",
       "گروه توليدي صنعتي سازان كد 124738                              46537200  \n",
       "گروه صنعتي زيست بست پرشيا كد 1922                               5093088  \n",
       "گسترش رهان ابنيه سازان كد 61484                                62713310  \n",
       "گلنار حسيني دهکردي كد 119975                                    1649052  \n",
       "\n",
       "[914 rows x 3 columns]"
      ]
     },
     "execution_count": 329,
     "metadata": {},
     "output_type": "execute_result"
    }
   ],
   "source": [
    "X"
   ]
  },
  {
   "cell_type": "code",
   "execution_count": 330,
   "metadata": {},
   "outputs": [],
   "source": [
    "X.columns=['R','F','M']"
   ]
  },
  {
   "cell_type": "code",
   "execution_count": 331,
   "metadata": {},
   "outputs": [],
   "source": [
    "#Elboe Method\n",
    "#the best cluster no=3"
   ]
  },
  {
   "cell_type": "code",
   "execution_count": 332,
   "metadata": {},
   "outputs": [],
   "source": [
    "wss=[]\n",
    "for n in range(1,10):\n",
    "    kmeans=KMeans(n_clusters=n).fit(X)\n",
    "    wss.append(kmeans.inertia_)\n",
    "\n"
   ]
  },
  {
   "cell_type": "code",
   "execution_count": 333,
   "metadata": {},
   "outputs": [
    {
     "data": {
      "text/plain": [
       "Text(0, 0.5, 'Within sum of Square Distance')"
      ]
     },
     "execution_count": 333,
     "metadata": {},
     "output_type": "execute_result"
    },
    {
     "data": {
      "image/png": "[encoded data removed]",
      "text/plain": [
       "<Figure size 432x288 with 1 Axes>"
      ]
     },
     "metadata": {
      "needs_background": "light"
     },
     "output_type": "display_data"
    }
   ],
   "source": [
    "plt.plot(range(1,10),wss,c='r',marker='o',alpha=0.5)\n",
    "plt.xlabel('Number of Clusters')\n",
    "plt.ylabel('Within sum of Square Distance')\n",
    "\n"
   ]
  },
  {
   "cell_type": "code",
   "execution_count": 334,
   "metadata": {},
   "outputs": [],
   "source": [
    "n_cluster=3\n",
    "kmeans=KMeans(n_clusters=n_cluster).fit(X)"
   ]
  },
  {
   "cell_type": "code",
   "execution_count": 335,
   "metadata": {},
   "outputs": [
    {
     "data": {
      "text/plain": [
       "array([[2.75914754e+03, 4.52528103e+02, 5.11517822e+06],\n",
       "       [2.75200000e+03, 7.99100000e+02, 1.04708216e+08],\n",
       "       [2.75332000e+03, 7.83680000e+02, 4.25433320e+07]])"
      ]
     },
     "execution_count": 335,
     "metadata": {},
     "output_type": "execute_result"
    }
   ],
   "source": [
    "kmeans.cluster_centers_"
   ]
  },
  {
   "cell_type": "code",
   "execution_count": 336,
   "metadata": {},
   "outputs": [
    {
     "data": {
      "text/html": [
       "<div>\n",
       "<style scoped>\n",
       "    .dataframe tbody tr th:only-of-type {\n",
       "        vertical-align: middle;\n",
       "    }\n",
       "\n",
       "    .dataframe tbody tr th {\n",
       "        vertical-align: top;\n",
       "    }\n",
       "\n",
       "    .dataframe thead th {\n",
       "        text-align: right;\n",
       "    }\n",
       "</style>\n",
       "<table border=\"1\" class=\"dataframe\">\n",
       "  <thead>\n",
       "    <tr style=\"text-align: right;\">\n",
       "      <th></th>\n",
       "      <th>R</th>\n",
       "      <th>F</th>\n",
       "      <th>M</th>\n",
       "    </tr>\n",
       "  </thead>\n",
       "  <tbody>\n",
       "    <tr>\n",
       "      <th>0</th>\n",
       "      <td>2759.147541</td>\n",
       "      <td>452.528103</td>\n",
       "      <td>5.115178e+06</td>\n",
       "    </tr>\n",
       "    <tr>\n",
       "      <th>1</th>\n",
       "      <td>2752.000000</td>\n",
       "      <td>799.100000</td>\n",
       "      <td>1.047082e+08</td>\n",
       "    </tr>\n",
       "    <tr>\n",
       "      <th>2</th>\n",
       "      <td>2753.320000</td>\n",
       "      <td>783.680000</td>\n",
       "      <td>4.254333e+07</td>\n",
       "    </tr>\n",
       "  </tbody>\n",
       "</table>\n",
       "</div>"
      ],
      "text/plain": [
       "             R           F             M\n",
       "0  2759.147541  452.528103  5.115178e+06\n",
       "1  2752.000000  799.100000  1.047082e+08\n",
       "2  2753.320000  783.680000  4.254333e+07"
      ]
     },
     "execution_count": 336,
     "metadata": {},
     "output_type": "execute_result"
    }
   ],
   "source": [
    "pd.DataFrame(kmeans.cluster_centers_,columns=X.columns)"
   ]
  },
  {
   "cell_type": "code",
   "execution_count": 337,
   "metadata": {},
   "outputs": [
    {
     "data": {
      "text/plain": [
       "R    2.759148e+03\n",
       "F    7.991000e+02\n",
       "M    1.047082e+08\n",
       "dtype: float64"
      ]
     },
     "execution_count": 337,
     "metadata": {},
     "output_type": "execute_result"
    }
   ],
   "source": [
    "pd.DataFrame(kmeans.cluster_centers_,columns=X.columns).max()"
   ]
  },
  {
   "cell_type": "code",
   "execution_count": 338,
   "metadata": {},
   "outputs": [
    {
     "data": {
      "text/plain": [
       "R    2.752000e+03\n",
       "F    4.525281e+02\n",
       "M    5.115178e+06\n",
       "dtype: float64"
      ]
     },
     "execution_count": 338,
     "metadata": {},
     "output_type": "execute_result"
    }
   ],
   "source": [
    "pd.DataFrame(kmeans.cluster_centers_,columns=X.columns).min()"
   ]
  },
  {
   "cell_type": "code",
   "execution_count": 339,
   "metadata": {},
   "outputs": [],
   "source": [
    "#cluster 1----- طرفدار"
   ]
  },
  {
   "cell_type": "code",
   "execution_count": 340,
   "metadata": {},
   "outputs": [],
   "source": [
    "#cluster 0----- غیرطرفدار"
   ]
  },
  {
   "cell_type": "code",
   "execution_count": 341,
   "metadata": {},
   "outputs": [],
   "source": [
    "#cluster 2------ خنثی"
   ]
  },
  {
   "cell_type": "code",
   "execution_count": 342,
   "metadata": {},
   "outputs": [],
   "source": [
    "labs=kmeans.labels_"
   ]
  },
  {
   "cell_type": "code",
   "execution_count": 343,
   "metadata": {},
   "outputs": [],
   "source": [
    "L=pd.DataFrame(labs)"
   ]
  },
  {
   "cell_type": "code",
   "execution_count": 344,
   "metadata": {},
   "outputs": [],
   "source": [
    "Name=pd.DataFrame(df['بيمه گذار'].unique())"
   ]
  },
  {
   "cell_type": "code",
   "execution_count": 345,
   "metadata": {},
   "outputs": [],
   "source": [
    "Clusters=pd.concat((Name,L),axis=1)"
   ]
  },
  {
   "cell_type": "code",
   "execution_count": 346,
   "metadata": {},
   "outputs": [],
   "source": [
    "des=[]\n",
    "for i in L[0]:\n",
    "        if i == 1.0 :   des.append('طرفدار')\n",
    "        elif i == 2.0:   des.append('غیر طرفدار')\n",
    "       \n",
    "        \n",
    "        else:           des.append('بیطرف')"
   ]
  },
  {
   "cell_type": "code",
   "execution_count": 347,
   "metadata": {},
   "outputs": [],
   "source": [
    "Clusters['Description']=des"
   ]
  },
  {
   "cell_type": "code",
   "execution_count": 348,
   "metadata": {},
   "outputs": [],
   "source": [
    "Clusters.columns=['Name','Cluster','des']"
   ]
  },
  {
   "cell_type": "code",
   "execution_count": 349,
   "metadata": {},
   "outputs": [
    {
     "data": {
      "text/html": [
       "<div>\n",
       "<style scoped>\n",
       "    .dataframe tbody tr th:only-of-type {\n",
       "        vertical-align: middle;\n",
       "    }\n",
       "\n",
       "    .dataframe tbody tr th {\n",
       "        vertical-align: top;\n",
       "    }\n",
       "\n",
       "    .dataframe thead th {\n",
       "        text-align: right;\n",
       "    }\n",
       "</style>\n",
       "<table border=\"1\" class=\"dataframe\">\n",
       "  <thead>\n",
       "    <tr style=\"text-align: right;\">\n",
       "      <th></th>\n",
       "      <th>Name</th>\n",
       "      <th>Cluster</th>\n",
       "      <th>des</th>\n",
       "    </tr>\n",
       "  </thead>\n",
       "  <tbody>\n",
       "    <tr>\n",
       "      <th>0</th>\n",
       "      <td>عبدالله خدامي قادهاري كد 241</td>\n",
       "      <td>0</td>\n",
       "      <td>بیطرف</td>\n",
       "    </tr>\n",
       "    <tr>\n",
       "      <th>1</th>\n",
       "      <td>جاسم کرمي كد 158</td>\n",
       "      <td>0</td>\n",
       "      <td>بیطرف</td>\n",
       "    </tr>\n",
       "    <tr>\n",
       "      <th>2</th>\n",
       "      <td>حيدر اکحوان كد 208</td>\n",
       "      <td>0</td>\n",
       "      <td>بیطرف</td>\n",
       "    </tr>\n",
       "    <tr>\n",
       "      <th>3</th>\n",
       "      <td>محمدرضا راعي فرد كد 227</td>\n",
       "      <td>0</td>\n",
       "      <td>بیطرف</td>\n",
       "    </tr>\n",
       "    <tr>\n",
       "      <th>4</th>\n",
       "      <td>جواد رمضانيان صادق كد 234</td>\n",
       "      <td>0</td>\n",
       "      <td>بیطرف</td>\n",
       "    </tr>\n",
       "    <tr>\n",
       "      <th>...</th>\n",
       "      <td>...</td>\n",
       "      <td>...</td>\n",
       "      <td>...</td>\n",
       "    </tr>\n",
       "    <tr>\n",
       "      <th>909</th>\n",
       "      <td>اکبر عسگري كد 147424</td>\n",
       "      <td>0</td>\n",
       "      <td>بیطرف</td>\n",
       "    </tr>\n",
       "    <tr>\n",
       "      <th>910</th>\n",
       "      <td>شهرام مرادي كد 147490</td>\n",
       "      <td>2</td>\n",
       "      <td>غیر طرفدار</td>\n",
       "    </tr>\n",
       "    <tr>\n",
       "      <th>911</th>\n",
       "      <td>شرکت سه نوبر كد 147513</td>\n",
       "      <td>0</td>\n",
       "      <td>بیطرف</td>\n",
       "    </tr>\n",
       "    <tr>\n",
       "      <th>912</th>\n",
       "      <td>محسن داود آبادي كد 30706</td>\n",
       "      <td>2</td>\n",
       "      <td>غیر طرفدار</td>\n",
       "    </tr>\n",
       "    <tr>\n",
       "      <th>913</th>\n",
       "      <td>حميدرضا حيدري كد 147842</td>\n",
       "      <td>0</td>\n",
       "      <td>بیطرف</td>\n",
       "    </tr>\n",
       "  </tbody>\n",
       "</table>\n",
       "<p>914 rows × 3 columns</p>\n",
       "</div>"
      ],
      "text/plain": [
       "                             Name  Cluster         des\n",
       "0    عبدالله خدامي قادهاري كد 241        0       بیطرف\n",
       "1                جاسم کرمي كد 158        0       بیطرف\n",
       "2              حيدر اکحوان كد 208        0       بیطرف\n",
       "3         محمدرضا راعي فرد كد 227        0       بیطرف\n",
       "4       جواد رمضانيان صادق كد 234        0       بیطرف\n",
       "..                            ...      ...         ...\n",
       "909          اکبر عسگري كد 147424        0       بیطرف\n",
       "910         شهرام مرادي كد 147490        2  غیر طرفدار\n",
       "911        شرکت سه نوبر كد 147513        0       بیطرف\n",
       "912      محسن داود آبادي كد 30706        2  غیر طرفدار\n",
       "913       حميدرضا حيدري كد 147842        0       بیطرف\n",
       "\n",
       "[914 rows x 3 columns]"
      ]
     },
     "execution_count": 349,
     "metadata": {},
     "output_type": "execute_result"
    }
   ],
   "source": [
    "Clusters"
   ]
  },
  {
   "cell_type": "code",
   "execution_count": null,
   "metadata": {},
   "outputs": [],
   "source": []
  },
  {
   "cell_type": "code",
   "execution_count": 350,
   "metadata": {},
   "outputs": [],
   "source": [
    "average_silhouette=silhouette_score(X,labs)"
   ]
  },
  {
   "cell_type": "code",
   "execution_count": 351,
   "metadata": {},
   "outputs": [
    {
     "data": {
      "text/plain": [
       "0.8565081053677432"
      ]
     },
     "execution_count": 351,
     "metadata": {},
     "output_type": "execute_result"
    }
   ],
   "source": [
    "average_silhouette"
   ]
  },
  {
   "cell_type": "code",
   "execution_count": 352,
   "metadata": {},
   "outputs": [],
   "source": [
    "sample_silhouette_values=silhouette_score(X,labs)"
   ]
  },
  {
   "cell_type": "code",
   "execution_count": 353,
   "metadata": {},
   "outputs": [
    {
     "data": {
      "text/plain": [
       "0.8565081053677432"
      ]
     },
     "execution_count": 353,
     "metadata": {},
     "output_type": "execute_result"
    }
   ],
   "source": [
    "sample_silhouette_values"
   ]
  },
  {
   "cell_type": "code",
   "execution_count": 286,
   "metadata": {},
   "outputs": [
    {
     "data": {
      "text/plain": [
       "0"
      ]
     },
     "execution_count": 286,
     "metadata": {},
     "output_type": "execute_result"
    }
   ],
   "source": [
    "np.sum(sample_silhouette_values<0)"
   ]
  },
  {
   "cell_type": "code",
   "execution_count": 287,
   "metadata": {},
   "outputs": [],
   "source": [
    "#Scaling the variables"
   ]
  },
  {
   "cell_type": "code",
   "execution_count": 288,
   "metadata": {},
   "outputs": [],
   "source": [
    "X_S=pd.concat((pd.DataFrame(Recency),pd.DataFrame(Frequency),pd.DataFrame(Monetary)),axis=1)"
   ]
  },
  {
   "cell_type": "code",
   "execution_count": 289,
   "metadata": {},
   "outputs": [],
   "source": [
    "standardize=StandardScaler()"
   ]
  },
  {
   "cell_type": "code",
   "execution_count": 290,
   "metadata": {},
   "outputs": [],
   "source": [
    "X_S=standardize.fit_transform(X_S)"
   ]
  },
  {
   "cell_type": "code",
   "execution_count": 291,
   "metadata": {},
   "outputs": [],
   "source": [
    "X_S=pd.DataFrame(X_S)"
   ]
  },
  {
   "cell_type": "code",
   "execution_count": 292,
   "metadata": {},
   "outputs": [],
   "source": [
    "X_S.columns=['R','F','M']"
   ]
  },
  {
   "cell_type": "code",
   "execution_count": 293,
   "metadata": {},
   "outputs": [],
   "source": [
    "n_cluster=3\n",
    "kmeans=KMeans(n_clusters=n_cluster).fit(X_S)"
   ]
  },
  {
   "cell_type": "code",
   "execution_count": 294,
   "metadata": {},
   "outputs": [
    {
     "data": {
      "text/html": [
       "<div>\n",
       "<style scoped>\n",
       "    .dataframe tbody tr th:only-of-type {\n",
       "        vertical-align: middle;\n",
       "    }\n",
       "\n",
       "    .dataframe tbody tr th {\n",
       "        vertical-align: top;\n",
       "    }\n",
       "\n",
       "    .dataframe thead th {\n",
       "        text-align: right;\n",
       "    }\n",
       "</style>\n",
       "<table border=\"1\" class=\"dataframe\">\n",
       "  <thead>\n",
       "    <tr style=\"text-align: right;\">\n",
       "      <th></th>\n",
       "      <th>R</th>\n",
       "      <th>F</th>\n",
       "      <th>M</th>\n",
       "    </tr>\n",
       "  </thead>\n",
       "  <tbody>\n",
       "    <tr>\n",
       "      <th>0</th>\n",
       "      <td>-1.037208</td>\n",
       "      <td>-0.060266</td>\n",
       "      <td>-0.164602</td>\n",
       "    </tr>\n",
       "    <tr>\n",
       "      <th>1</th>\n",
       "      <td>0.688674</td>\n",
       "      <td>-0.102489</td>\n",
       "      <td>-0.200694</td>\n",
       "    </tr>\n",
       "    <tr>\n",
       "      <th>2</th>\n",
       "      <td>-0.200938</td>\n",
       "      <td>1.620918</td>\n",
       "      <td>3.519453</td>\n",
       "    </tr>\n",
       "  </tbody>\n",
       "</table>\n",
       "</div>"
      ],
      "text/plain": [
       "          R         F         M\n",
       "0 -1.037208 -0.060266 -0.164602\n",
       "1  0.688674 -0.102489 -0.200694\n",
       "2 -0.200938  1.620918  3.519453"
      ]
     },
     "execution_count": 294,
     "metadata": {},
     "output_type": "execute_result"
    }
   ],
   "source": [
    "pd.DataFrame(kmeans.cluster_centers_,columns=X_S.columns)"
   ]
  },
  {
   "cell_type": "code",
   "execution_count": null,
   "metadata": {},
   "outputs": [],
   "source": []
  },
  {
   "cell_type": "code",
   "execution_count": 295,
   "metadata": {},
   "outputs": [],
   "source": [
    "#بررسی منطق و مفهوم بودن Clustering"
   ]
  },
  {
   "cell_type": "code",
   "execution_count": 296,
   "metadata": {},
   "outputs": [],
   "source": [
    "#بدست آوردن بردار centroid \n",
    " #مشتری طرفدار M and F -- max, R--min \n",
    " #مشتری غیرطرفدار:  M and F-- min, R-- max\n",
    "#مشتری خنثی: in the middle of above clusters"
   ]
  },
  {
   "cell_type": "code",
   "execution_count": 297,
   "metadata": {},
   "outputs": [],
   "source": [
    "#برای اینکه مفهوم و منطق کلاسترها راحتتر بررسی شود سنتروید ها را  بر اساس مقادیر غیراستاندارد حساب میکنیم"
   ]
  },
  {
   "cell_type": "code",
   "execution_count": 298,
   "metadata": {},
   "outputs": [
    {
     "data": {
      "text/html": [
       "<div>\n",
       "<style scoped>\n",
       "    .dataframe tbody tr th:only-of-type {\n",
       "        vertical-align: middle;\n",
       "    }\n",
       "\n",
       "    .dataframe tbody tr th {\n",
       "        vertical-align: top;\n",
       "    }\n",
       "\n",
       "    .dataframe thead th {\n",
       "        text-align: right;\n",
       "    }\n",
       "</style>\n",
       "<table border=\"1\" class=\"dataframe\">\n",
       "  <thead>\n",
       "    <tr style=\"text-align: right;\">\n",
       "      <th></th>\n",
       "      <th>R</th>\n",
       "      <th>F</th>\n",
       "      <th>M</th>\n",
       "    </tr>\n",
       "    <tr>\n",
       "      <th>clusters</th>\n",
       "      <th></th>\n",
       "      <th></th>\n",
       "      <th></th>\n",
       "    </tr>\n",
       "  </thead>\n",
       "  <tbody>\n",
       "    <tr>\n",
       "      <th>0</th>\n",
       "      <td>2672.736070</td>\n",
       "      <td>455.363636</td>\n",
       "      <td>5.891305e+06</td>\n",
       "    </tr>\n",
       "    <tr>\n",
       "      <th>1</th>\n",
       "      <td>2815.861480</td>\n",
       "      <td>442.001898</td>\n",
       "      <td>5.373607e+06</td>\n",
       "    </tr>\n",
       "    <tr>\n",
       "      <th>2</th>\n",
       "      <td>2742.086957</td>\n",
       "      <td>987.391304</td>\n",
       "      <td>5.873445e+07</td>\n",
       "    </tr>\n",
       "  </tbody>\n",
       "</table>\n",
       "</div>"
      ],
      "text/plain": [
       "                    R           F             M\n",
       "clusters                                       \n",
       "0         2672.736070  455.363636  5.891305e+06\n",
       "1         2815.861480  442.001898  5.373607e+06\n",
       "2         2742.086957  987.391304  5.873445e+07"
      ]
     },
     "execution_count": 298,
     "metadata": {},
     "output_type": "execute_result"
    }
   ],
   "source": [
    "Xorg=standardize.inverse_transform(X_S)\n",
    "Xorg=pd.DataFrame(Xorg)\n",
    "Xorg.columns=['R','F','M']\n",
    "Xorg['clusters']=kmeans.labels_\n",
    "\n",
    "#centroids:\n",
    "Xorg.groupby('clusters').agg('mean')"
   ]
  },
  {
   "cell_type": "code",
   "execution_count": 299,
   "metadata": {},
   "outputs": [
    {
     "data": {
      "text/plain": [
       "R    2.815861e+03\n",
       "F    9.873913e+02\n",
       "M    5.873445e+07\n",
       "dtype: float64"
      ]
     },
     "execution_count": 299,
     "metadata": {},
     "output_type": "execute_result"
    }
   ],
   "source": [
    "Xorg.groupby('clusters').agg('mean').max()"
   ]
  },
  {
   "cell_type": "code",
   "execution_count": 300,
   "metadata": {},
   "outputs": [
    {
     "data": {
      "text/plain": [
       "R    2.672736e+03\n",
       "F    4.420019e+02\n",
       "M    5.373607e+06\n",
       "dtype: float64"
      ]
     },
     "execution_count": 300,
     "metadata": {},
     "output_type": "execute_result"
    }
   ],
   "source": [
    "Xorg.groupby('clusters').agg('mean').min()"
   ]
  },
  {
   "cell_type": "code",
   "execution_count": 215,
   "metadata": {},
   "outputs": [],
   "source": [
    "#Cluster 2-----طرفدار"
   ]
  },
  {
   "cell_type": "code",
   "execution_count": 216,
   "metadata": {},
   "outputs": [],
   "source": [
    "#cluster 1-----غیرطرفدار"
   ]
  },
  {
   "cell_type": "code",
   "execution_count": 217,
   "metadata": {},
   "outputs": [],
   "source": [
    "#cluster 0----خنثی"
   ]
  },
  {
   "cell_type": "code",
   "execution_count": 301,
   "metadata": {},
   "outputs": [],
   "source": [
    "labs=kmeans.labels_"
   ]
  },
  {
   "cell_type": "code",
   "execution_count": 302,
   "metadata": {},
   "outputs": [],
   "source": [
    "average_silhouette=silhouette_score(X_S,labs)"
   ]
  },
  {
   "cell_type": "code",
   "execution_count": 303,
   "metadata": {},
   "outputs": [
    {
     "data": {
      "text/plain": [
       "0.38158802390385704"
      ]
     },
     "execution_count": 303,
     "metadata": {},
     "output_type": "execute_result"
    }
   ],
   "source": [
    "average_silhouette"
   ]
  },
  {
   "cell_type": "code",
   "execution_count": 304,
   "metadata": {},
   "outputs": [],
   "source": [
    "sample_silhouette_values=silhouette_score(X_S,labs)"
   ]
  },
  {
   "cell_type": "code",
   "execution_count": 305,
   "metadata": {},
   "outputs": [
    {
     "data": {
      "text/plain": [
       "0.38158802390385704"
      ]
     },
     "execution_count": 305,
     "metadata": {},
     "output_type": "execute_result"
    }
   ],
   "source": [
    "sample_silhouette_values"
   ]
  },
  {
   "cell_type": "code",
   "execution_count": 306,
   "metadata": {},
   "outputs": [
    {
     "data": {
      "text/plain": [
       "0"
      ]
     },
     "execution_count": 306,
     "metadata": {},
     "output_type": "execute_result"
    }
   ],
   "source": [
    "np.sum(sample_silhouette_values<0)"
   ]
  },
  {
   "cell_type": "code",
   "execution_count": 224,
   "metadata": {},
   "outputs": [],
   "source": [
    "#شاخص کیفیت کلاسترها نسبت به قبل از نرملایز کردن بسیار کاهش یافت بنابراین مدل اول انتخاب میشود"
   ]
  },
  {
   "cell_type": "code",
   "execution_count": 225,
   "metadata": {},
   "outputs": [],
   "source": []
  },
  {
   "cell_type": "code",
   "execution_count": 226,
   "metadata": {},
   "outputs": [],
   "source": []
  },
  {
   "cell_type": "code",
   "execution_count": 227,
   "metadata": {},
   "outputs": [],
   "source": []
  }
 ],
 "metadata": {
  "kernelspec": {
   "display_name": "Python 3",
   "language": "python",
   "name": "python3"
  },
  "language_info": {
   "codemirror_mode": {
    "name": "ipython",
    "version": 3
   },
   "file_extension": ".py",
   "mimetype": "text/x-python",
   "name": "python",
   "nbconvert_exporter": "python",
   "pygments_lexer": "ipython3",
   "version": "3.8.5"
  }
 },
 "nbformat": 4,
 "nbformat_minor": 4
}
